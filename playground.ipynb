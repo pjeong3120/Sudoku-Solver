{
 "cells": [
  {
   "cell_type": "code",
   "execution_count": 1,
   "metadata": {},
   "outputs": [],
   "source": [
    "import utils"
   ]
  },
  {
   "cell_type": "code",
   "execution_count": null,
   "metadata": {},
   "outputs": [],
   "source": [
    "Easy = utils.Classic_Grid([\n",
    "    [0, 6, 0, 0, 8, 0, 4, 2, 0],\n",
    "    [0, 1, 5, 0, 6, 0, 3, 7, 8],\n",
    "    [0, 0, 0, 4, 0, 0, 0, 6, 0],\n",
    "    [1, 0, 0, 6, 0, 4, 8, 3, 0],\n",
    "    [3, 0, 6, 0, 1, 0, 7, 0, 5],\n",
    "    [0, 8, 0, 3, 5, 0, 0, 0, 0],\n",
    "    [8, 3, 0, 9, 4, 0, 0, 0, 0],\n",
    "    [0, 7, 2, 1, 3, 0, 9, 0, 0],\n",
    "    [0, 0, 9, 0, 2, 0, 6, 1, 0]\n",
    "])\n",
    "\n",
    "\n",
    "Hard = utils.Classic_Grid([\n",
    "    [9, 0, 0, 0, 7, 0, 0, 2, 0],\n",
    "    [0, 8, 0, 0, 0, 0, 0, 3, 0],\n",
    "    [6, 0, 0, 0, 0, 4, 7, 0, 8],\n",
    "    [0, 0, 0, 0, 0, 0, 0, 8, 0],\n",
    "    [0, 6, 0, 0, 3, 0, 9, 0, 1],\n",
    "    [4, 0, 0, 5, 0, 0, 0, 0, 0],\n",
    "    [0, 0 ,9, 0, 0, 3, 0, 0, 0],\n",
    "    [0, 1, 0, 0, 9, 0, 6, 0, 7],\n",
    "    [0, 0, 0, 0, 0, 0, 2, 0, 0]\n",
    "])"
   ]
  }
 ],
 "metadata": {
  "kernelspec": {
   "display_name": "Python 3",
   "language": "python",
   "name": "python3"
  },
  "language_info": {
   "codemirror_mode": {
    "name": "ipython",
    "version": 3
   },
   "file_extension": ".py",
   "mimetype": "text/x-python",
   "name": "python",
   "nbconvert_exporter": "python",
   "pygments_lexer": "ipython3",
   "version": "3.10.8"
  },
  "orig_nbformat": 4
 },
 "nbformat": 4,
 "nbformat_minor": 2
}
